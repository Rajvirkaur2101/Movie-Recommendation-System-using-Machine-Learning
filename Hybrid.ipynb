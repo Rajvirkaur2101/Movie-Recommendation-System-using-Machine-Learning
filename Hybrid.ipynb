{
 "cells": [
  {
   "cell_type": "markdown",
   "id": "89e8cb26-334f-4b77-b9d8-be2e3215be39",
   "metadata": {},
   "source": [
    "### Hybrid model\n",
    "\n",
    "A Hybrid Recommendation System combines two or more recommendation techniques—such as collaborative filtering, content-based filtering, and popularity-based methods—to generate more accurate, personalized, and robust recommendations. Each individual approach has its strengths and limitations. For instance, collaborative filtering can suffer from the cold start problem for new users or items, while content-based methods may be limited in diversity. By blending these approaches, hybrid models aim to overcome these weaknesses and leverage the strengths of each method.\n",
    "\n",
    "In the context of movie recommendations, a hybrid model might use user-item rating patterns (collaborative filtering) and movie metadata like genres or overviews (content-based filtering) together. For example, it can recommend movies that are both similar in content to a movie the user liked and are also liked by users with similar preferences. This leads to more accurate and relevant recommendations, especially in sparse or noisy datasets."
   ]
  },
  {
   "cell_type": "markdown",
   "id": "089da72c-47da-4146-9cb4-05e1a3175b64",
   "metadata": {
    "jp-MarkdownHeadingCollapsed": true
   },
   "source": [
    "This hybrid recommendation system effectively combines **content-based filtering** and **collaborative filtering** to deliver personalized and accurate movie recommendations.\n",
    "\n",
    "#####  **Step 1: Content-Based Filtering**\n",
    "\n",
    "- **TF-IDF Vectorization**  \n",
    "  Transforms movie genres into numerical vectors capturing meaningful genre combinations.\n",
    "\n",
    "- **K-Nearest Neighbors (KNN)**  \n",
    "  Uses cosine similarity to identify genre-similar movies based on the user's selected movie.\n",
    "\n",
    "##### **Step 2: Collaborative Filtering**\n",
    "\n",
    "- **Singular Value Decomposition (SVD)**  \n",
    "  - Implemented using the `surprise` library.\n",
    "  - SVD is trained on the userId, movieId, rating data and learns latent features (patterns) of user preferences.\n",
    "  - For each content-similar movie found in step 1, the model predicts how much the input user would like that movie using SVD.\n",
    "\n",
    "#####  **Step 3: Hybrid Scoring**\n",
    "\n",
    "The system combines both content and collaborative filtering using a hybrid score:\n",
    "\n",
    "hybrid_score = (vote_average + svd_score) / 2\n",
    "\n",
    "* vote_average captures how good the movie is generally (public opinion).\n",
    "\n",
    "* svd_score captures how likely the specific user is to enjoy the movie.\n",
    "\n",
    "Movies are then sorted by this hybrid score, and the top-N are returned as recommendations.\n"
   ]
  },
  {
   "cell_type": "markdown",
   "id": "0944065a-75f5-42a1-b716-94663ce1af4c",
   "metadata": {},
   "source": [
    "### Model Performance\n",
    "\n",
    "Accuracy\n",
    "- What it means: How often the model's predictions (good/bad movie) match the actual rating.\n",
    "\n",
    "Precision\n",
    "- What it means: Of all the movies predicted as \"liked\", how many were actually liked?\n",
    "\n",
    "Recall\n",
    "- What it means: Of all the movies the user actually liked, how many did the model correctly identify?\n",
    "\n",
    "F1 Score\n",
    "- What it means: The harmonic mean of precision and recall — balances both.\n",
    "\n",
    "RMSE (Root Mean Squared Error)\n",
    "- What it means: Measures how far the predicted ratings are from the actual ratings — penalizes larger errors more heavily.\n",
    "\n",
    "MAE (Mean Absolute Error)\n",
    "- What it means: The average of how far off each prediction is from the actual rating."
   ]
  },
  {
   "cell_type": "code",
   "execution_count": 4,
   "id": "35606129-5d74-46e6-8664-a41715964bd6",
   "metadata": {},
   "outputs": [
    {
     "name": "stdout",
     "output_type": "stream",
     "text": [
      "📊 Hybrid Model Evaluation\n",
      "RMSE: 1.8794\n",
      "MAE: 1.5973\n",
      "Accuracy: 0.614\n",
      "Precision: 0.6169\n",
      "Recall: 0.9854\n",
      "F1 Score: 0.7588\n"
     ]
    },
    {
     "name": "stderr",
     "output_type": "stream",
     "text": [
      "/opt/anaconda3/lib/python3.12/site-packages/sklearn/metrics/_regression.py:483: FutureWarning: 'squared' is deprecated in version 1.4 and will be removed in 1.6. To calculate the root mean squared error, use the function'root_mean_squared_error'.\n",
      "  warnings.warn(\n"
     ]
    }
   ],
   "source": [
    "import pandas as pd\n",
    "from surprise import Dataset, Reader, SVD\n",
    "from surprise.model_selection import train_test_split\n",
    "from sklearn.metrics import mean_squared_error, mean_absolute_error, accuracy_score, precision_score, recall_score, f1_score\n",
    "\n",
    "df = pd.read_csv(\"cleaned_movie_ratings.csv\").dropna(subset=[\"userId\", \"movieId\", \"rating\", \"vote_average\"])\n",
    "\n",
    "# Prepare Surprise dataset\n",
    "reader = Reader(rating_scale=(0.5, 5.0))\n",
    "data = Dataset.load_from_df(df[['userId', 'movieId', 'rating']], reader)\n",
    "\n",
    "# Train-test split\n",
    "trainset, testset = train_test_split(data, test_size=0.2, random_state=42)\n",
    "svd = SVD()\n",
    "svd.fit(trainset)\n",
    "\n",
    "# Predict and merge with content-based scores\n",
    "predictions = svd.test(testset)\n",
    "pred_df = pd.DataFrame([(p.uid, p.iid, p.r_ui, p.est) for p in predictions], columns=[\"userId\", \"movieId\", \"actual\", \"svd_pred\"])\n",
    "vote_avg = df.drop_duplicates(\"movieId\").set_index(\"movieId\")[\"vote_average\"]\n",
    "pred_df[\"vote_average\"] = pred_df[\"movieId\"].map(vote_avg)\n",
    "pred_df.dropna(inplace=True)\n",
    "pred_df[\"hybrid_pred\"] = (pred_df[\"svd_pred\"] + pred_df[\"vote_average\"]) / 2\n",
    "\n",
    "# Evaluation\n",
    "y_true = pred_df[\"actual\"]\n",
    "y_pred = pred_df[\"hybrid_pred\"]\n",
    "y_true_bin = (y_true >= 3.5).astype(int)\n",
    "y_pred_bin = (y_pred >= 3.5).astype(int)\n",
    "\n",
    "print(\"📊 Hybrid Model Evaluation\")\n",
    "print(\"RMSE:\", round(mean_squared_error(y_true, y_pred, squared=False), 4))\n",
    "print(\"MAE:\", round(mean_absolute_error(y_true, y_pred), 4))\n",
    "print(\"Accuracy:\", round(accuracy_score(y_true_bin, y_pred_bin), 4))\n",
    "print(\"Precision:\", round(precision_score(y_true_bin, y_pred_bin), 4))\n",
    "print(\"Recall:\", round(recall_score(y_true_bin, y_pred_bin), 4))\n",
    "print(\"F1 Score:\", round(f1_score(y_true_bin, y_pred_bin), 4))\n"
   ]
  },
  {
   "cell_type": "markdown",
   "id": "3c26bdac-62ad-4f39-ace2-5001d4b3ebfd",
   "metadata": {},
   "source": [
    "##### **Model Performance Metrics**\n",
    "\n",
    "| Metric     | Value   | Meaning |\n",
    "|------------|---------|---------|\n",
    "| **RMSE**       | `1.8803` | On average, predictions deviate from actual ratings by approximately **1.88 points**. Lower is better. |\n",
    "| **MAE**        | `1.5985` | Average absolute error between predicted and actual ratings is approximately **1.60**. Lower is better. |\n",
    "| **Accuracy**   | `0.6140` | **61.4%** of predictions correctly classified movies as \"liked\" or \"not liked.\" |\n",
    "| **Precision**  | `0.6169` | About **61.7%** of movies predicted as liked were actually liked by users. |\n",
    "| **Recall**     | `0.9854` | The model captured almost all (**98.5%**) of the movies the user liked, indicating high recall. |\n",
    "| **F1 Score**   | `0.7588` | Represents a good balance between precision and recall, indicating overall robust recommendation quality. |\n"
   ]
  },
  {
   "cell_type": "markdown",
   "id": "d3f9b3a3-8614-4c30-9c0c-85fc3626c57e",
   "metadata": {},
   "source": [
    "### **Hybrid Movie Recommendation App (Streamlit UI)**\n",
    "\n",
    "This code represents the **user interface component** of a Streamlit-based **hybrid movie recommendation system**, designed to deliver personalized movie suggestions interactively.\n",
    "\n",
    "##### **How it works:**\n",
    "\n",
    "1. **Select Movie Title**\n",
    "   - Users interact with a searchable dropdown containing movie titles.\n",
    "   - Allows easy selection of a film of interest.\n",
    "\n",
    "2. **Enter User ID**\n",
    "   - Users input their unique User ID.\n",
    "   - Essential for personalizing recommendations via collaborative filtering (**SVD model**).\n",
    "\n",
    "3. **Choose Number of Recommendations**\n",
    "   - A slider enables users to select how many recommendations they wish to receive (**between 5 and 50**).\n",
    "\n",
    "4. **Generate Recommendations**\n",
    "   - Clicking the **\"Recommend\"** button initiates:\n",
    "     - **Content-based filtering** (genre similarity).\n",
    "     - **Collaborative filtering** (SVD-predicted ratings).\n",
    "   - Combines both methods to create a ranked list of recommended movies.\n",
    "\n",
    "5. **Display Results**\n",
    "   - Recommendations appear in a clear table with columns:\n",
    "     - **Title**\n",
    "     - **Genres**\n",
    "     - **Vote Average** (general audience preference)\n",
    "     - **Predicted SVD Score** (personalized rating prediction)\n",
    "     - **Final Hybrid Score** (average of vote average and SVD score)\n",
    "\n",
    "6. **Handling No Recommendations**\n",
    "   - If no suitable recommendations are found, a user-friendly warning message is displayed.\n",
    "\n",
    "\n"
   ]
  },
  {
   "cell_type": "code",
   "execution_count": 7,
   "id": "3c54e50c-4fa0-470b-a4df-f55edab9ce77",
   "metadata": {},
   "outputs": [
    {
     "name": "stdout",
     "output_type": "stream",
     "text": [
      "app4.py file created successfully.\n"
     ]
    }
   ],
   "source": [
    "with open(\"app4.py\", \"w\") as f:\n",
    "    f.write('''import streamlit as st\n",
    "import pandas as pd\n",
    "import numpy as np\n",
    "from sklearn.feature_extraction.text import TfidfVectorizer\n",
    "from sklearn.neighbors import NearestNeighbors\n",
    "from surprise import Dataset, Reader, SVD\n",
    "\n",
    "# Load cleaned data\n",
    "df = pd.read_csv(\"cleaned_movie_ratings.csv\")\n",
    "df['genres'] = df['genres'].fillna('')\n",
    "\n",
    "# --- Collaborative Filtering Setup (SVD) ---\n",
    "reader = Reader(rating_scale=(0.5, 5.0))\n",
    "data = Dataset.load_from_df(df[['userId', 'movieId', 'rating']], reader)\n",
    "trainset = data.build_full_trainset()\n",
    "svd_model = SVD()\n",
    "svd_model.fit(trainset)\n",
    "\n",
    "# --- Content-Based Filtering Setup (KNN on genres) ---\n",
    "tfidf_vectorizer = TfidfVectorizer(stop_words='english')\n",
    "tfidf_matrix = tfidf_vectorizer.fit_transform(df['genres'])\n",
    "knn_model = NearestNeighbors(metric='cosine', algorithm='brute', n_neighbors=200)\n",
    "knn_model.fit(tfidf_matrix)\n",
    "\n",
    "# --- Mappings ---\n",
    "title_to_index = pd.Series(df.index, index=df['title']).drop_duplicates()\n",
    "\n",
    "# --- Hybrid Recommendation Function ---\n",
    "def recommend_hybrid(movie_title, user_id, n=10):\n",
    "    if movie_title not in title_to_index:\n",
    "        return pd.DataFrame({\"Error\": [f\"Movie '{movie_title}' not found in dataset.\"]})\n",
    "\n",
    "    idx = title_to_index[movie_title]\n",
    "    distances, indices = knn_model.kneighbors(tfidf_matrix[idx], n_neighbors=200)\n",
    "    movie_indices = indices[0][1:]\n",
    "\n",
    "    recommendations = df.iloc[movie_indices][[\"movieId\", \"title\", \"vote_average\", \"genres\"]]\n",
    "    recommendations = recommendations.drop_duplicates(subset=\"title\")  # ensure unique titles\n",
    "\n",
    "    # Add collaborative SVD predictions\n",
    "    recommendations[\"svd_score\"] = recommendations[\"movieId\"].apply(lambda x: svd_model.predict(user_id, x).est)\n",
    "\n",
    "    # Combine to hybrid score\n",
    "    recommendations[\"hybrid_score\"] = (recommendations[\"vote_average\"] + recommendations[\"svd_score\"]) / 2\n",
    "\n",
    "    return recommendations.sort_values(by=\"hybrid_score\", ascending=False).head(n)\n",
    "\n",
    "# ------------------ Streamlit UI ------------------\n",
    "st.set_page_config(page_title=\"🎬 Hybrid Recommender\", layout=\"centered\")\n",
    "st.title(\"🎬 Hybrid Movie Recommendation System\")\n",
    "st.markdown(\"This system combines **Content-Based Filtering (Genres)** and **Collaborative Filtering (SVD)** to deliver personalized movie recommendations.\")\n",
    "\n",
    "# 🎞️ Search and Select Movie\n",
    "movie_list = sorted(df['title'].dropna().unique())\n",
    "movie_input = st.selectbox(\"🎞️ Search and Select a Movie:\", movie_list)\n",
    "\n",
    "# 👤 User ID Input\n",
    "user_id_input = st.number_input(\"👤 Enter User ID:\", min_value=1, step=1)\n",
    "\n",
    "# 🔢 Number of Recommendations\n",
    "top_n = st.slider(\"📌 Number of Recommendations:\", 5, 50, 10)\n",
    "\n",
    "# 🎯 Show Recommendations\n",
    "if st.button(\"🎯 Recommend\"):\n",
    "    results = recommend_hybrid(movie_input, user_id_input, n=top_n)\n",
    "    if not results.empty:\n",
    "        st.success(f\"✅ Top {top_n} Hybrid Recommendations for User {user_id_input} Based on '{movie_input}':\")\n",
    "        st.dataframe(results[[\"title\", \"genres\", \"vote_average\", \"svd_score\", \"hybrid_score\"]])\n",
    "    else:\n",
    "        st.warning(\"⚠️ No recommendations found. Try another movie or user ID.\")\n",
    "\n",
    "''')\n",
    "\n",
    "print(\"app4.py file created successfully.\")"
   ]
  },
  {
   "cell_type": "code",
   "execution_count": null,
   "id": "aa4cf044-e4f4-4413-9ab1-584ef0a64976",
   "metadata": {},
   "outputs": [
    {
     "name": "stdout",
     "output_type": "stream",
     "text": [
      "\u001b[0m\n",
      "\u001b[34m\u001b[1m  You can now view your Streamlit app in your browser.\u001b[0m\n",
      "\u001b[0m\n",
      "\u001b[34m  Local URL: \u001b[0m\u001b[1mhttp://localhost:8503\u001b[0m\n",
      "\u001b[34m  Network URL: \u001b[0m\u001b[1mhttp://192.168.1.199:8503\u001b[0m\n",
      "\u001b[0m\n"
     ]
    }
   ],
   "source": [
    "!streamlit run app4.py"
   ]
  },
  {
   "cell_type": "markdown",
   "id": "011afa2a-dd5d-4021-9d6e-75031f1bfeaf",
   "metadata": {},
   "source": [
    "###  **Model Comparison: Collaborative (SVD) vs. Hybrid Model**\n",
    "\n",
    "| Metric       | Collaborative (SVD) | Hybrid Model | What It Tells Us |\n",
    "|--------------|---------------------|--------------|------------------|\n",
    "| **RMSE**     | `0.9018` ✅          | `1.8803`     | **SVD** predicts ratings closer to actual values. |\n",
    "| **MAE**      | `0.6914` ✅          | `1.5985`     | **SVD** has smaller average prediction errors. |\n",
    "| **Accuracy** | `0.7035` ✅          | `0.6140`     | **SVD** correctly classifies more predictions overall. |\n",
    "| **Precision**| `0.7858` ✅          | `0.6169`     | **SVD** recommendations are more relevant (movies predicted as liked are indeed liked). |\n",
    "| **Recall**   | `0.7132`            | `0.9854` ✅   | **Hybrid** captures a greater proportion of movies users actually liked. |\n",
    "| **F1 Score** | `0.7477`            | `0.7588` ✅   | **Hybrid** slightly edges out in balancing precision and recall. |\n",
    "\n",
    "\n",
    "#### **Best-Performing Model: Collaborative Filtering (SVD)**\n",
    "\n",
    "Based on evaluating multiple recommendation approaches, the **Collaborative Filtering (SVD)** model demonstrates the strongest performance, particularly in terms of **Root Mean Squared Error (RMSE)**.\n",
    "\n",
    "- **RMSE**: The SVD model has the **lowest RMSE** of **0.9018**, indicating the most accurate predictions of user ratings compared to both Content-Based and Hybrid models.\n",
    "- **Accuracy and Precision**: The lower RMSE reflects the SVD model’s ability to accurately capture user preferences, leading to more reliable and relevant recommendations.\n",
    "- **Comparison to Hybrid Model**: While the Hybrid model excels in recall, suggesting broader coverage of potentially relevant items, the Collaborative Filtering (SVD) model achieves the best balance between precision and predictive accuracy.\n",
    "\n",
    "✅ **Conclusion**:  \n",
    "The **Collaborative Filtering (SVD)** approach provides the most robust and accurate recommendation performance, making it the ideal choice for this recommendation system.\n",
    "\n"
   ]
  },
  {
   "cell_type": "code",
   "execution_count": null,
   "id": "b8552362-ff36-4fa6-b172-24695384fde1",
   "metadata": {},
   "outputs": [],
   "source": []
  },
  {
   "cell_type": "code",
   "execution_count": null,
   "id": "35b3a666-a42f-4143-b5ae-15e5a9765fb4",
   "metadata": {},
   "outputs": [],
   "source": []
  }
 ],
 "metadata": {
  "kernelspec": {
   "display_name": "Python 3 (ipykernel)",
   "language": "python",
   "name": "python3"
  },
  "language_info": {
   "codemirror_mode": {
    "name": "ipython",
    "version": 3
   },
   "file_extension": ".py",
   "mimetype": "text/x-python",
   "name": "python",
   "nbconvert_exporter": "python",
   "pygments_lexer": "ipython3",
   "version": "3.12.4"
  }
 },
 "nbformat": 4,
 "nbformat_minor": 5
}
