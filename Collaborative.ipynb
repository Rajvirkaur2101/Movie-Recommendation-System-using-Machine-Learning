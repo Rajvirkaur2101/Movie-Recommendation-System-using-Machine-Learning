{
 "cells": [
  {
   "cell_type": "markdown",
   "id": "ce013684-755a-4178-9183-a2108eca2b08",
   "metadata": {},
   "source": [
    "###  **Collaborative Filtering**"
   ]
  },
  {
   "cell_type": "markdown",
   "id": "623574d0-1264-48cf-a9b1-6800304e9941",
   "metadata": {},
   "source": [
    "**Collaborative filtering** is a recommendation technique that suggests movies to users based on the preferences of other users with similar tastes.\n",
    "\n",
    "- It identifies **patterns in user ratings** and predicts how much a user might like a movie they haven't seen yet.\n",
    "- Unlike content-based filtering, it **does not rely on movie content** (e.g., genre or description).\n",
    "- Instead, it leverages the **behavior and ratings of many users** to generate personalized recommendations.\n",
    "\n",
    "It assumes that if two users liked the same movies in the past, they will likely enjoy similar movies in the future. The system looks at the behavior patterns of users, such as ratings.\n",
    "* It finds similar users or items based on those patterns.\n",
    "* If User A and User B rate several movies similarly, then User A might like movies that User B liked but User A hasn’t seen yet.\n",
    "\n"
   ]
  },
  {
   "cell_type": "markdown",
   "id": "84a3656a-2cd8-40e6-b10a-b30474267b56",
   "metadata": {},
   "source": [
    "### **Collaborative Filtering with Singular Value Decomposition (SVD)**\n",
    "\n",
    "This collaborative filtering system is built using **Singular Value Decomposition (SVD)**, a model-based approach to recommending movies based on user preferences.\n",
    "\n",
    "- The system loads a cleaned dataset of user ratings and prepares it using the **Surprise library**.\n",
    "- The **SVD model** is trained on a subset of the data to learn latent features that capture relationships between users and movies.\n",
    "- It **predicts** how a user might rate unseen movies by identifying patterns from other users with similar tastes.\n",
    "- The app then recommends the **top N movies** for a selected user by sorting predicted ratings in descending order.\n",
    "\n"
   ]
  },
  {
   "cell_type": "code",
   "execution_count": 4,
   "id": "f09cd30f-72e5-47d3-b392-bbe55e59fe98",
   "metadata": {},
   "outputs": [],
   "source": [
    "import pandas as pd\n",
    "from surprise import Dataset, Reader, SVD\n",
    "from surprise.model_selection import train_test_split\n",
    "\n",
    "df = pd.read_csv(\"cleaned_movie_ratings.csv\") \n",
    "\n",
    "\n",
    "reader = Reader(rating_scale=(0.5, 5.0))\n",
    "data = Dataset.load_from_df(df[['userId', 'movieId', 'rating']], reader)\n",
    "\n",
    "# Split data into train and test sets\n",
    "trainset, testset = train_test_split(data, test_size=0.2, random_state=42)\n"
   ]
  },
  {
   "cell_type": "code",
   "execution_count": 5,
   "id": "97446ba4-025d-408b-9608-18fabc179963",
   "metadata": {},
   "outputs": [
    {
     "data": {
      "text/plain": [
       "<surprise.prediction_algorithms.matrix_factorization.SVD at 0x120d7e840>"
      ]
     },
     "execution_count": 5,
     "metadata": {},
     "output_type": "execute_result"
    }
   ],
   "source": [
    "# Initialize and train the model\n",
    "svd = SVD()\n",
    "svd.fit(trainset)\n"
   ]
  },
  {
   "cell_type": "code",
   "execution_count": 6,
   "id": "8000d62b-95d7-4321-8082-5050f42c4460",
   "metadata": {},
   "outputs": [
    {
     "name": "stdout",
     "output_type": "stream",
     "text": [
      "Predicted rating for User 1 on Movie 120: 3.11\n"
     ]
    }
   ],
   "source": [
    "# Predict a specific user-movie rating\n",
    "user_id = 1\n",
    "movie_id = 120 \n",
    "prediction = svd.predict(user_id, movie_id)\n",
    "print(f\"Predicted rating for User {user_id} on Movie {movie_id}: {prediction.est:.2f}\")\n"
   ]
  },
  {
   "cell_type": "code",
   "execution_count": 7,
   "id": "bdbcff96-7c58-4e85-8540-642af3ba852c",
   "metadata": {},
   "outputs": [
    {
     "name": "stdout",
     "output_type": "stream",
     "text": [
      "The Million Dollar Hotel: 4.22\n",
      "Once Were Warriors: 4.07\n",
      "Rome, Open City: 4.04\n",
      "While You Were Sleeping: 4.0\n",
      "Dog Day Afternoon: 3.97\n",
      "Space Jam: 3.95\n",
      "The Thomas Crown Affair: 3.95\n",
      "Galaxy Quest: 3.95\n",
      "Cousin, Cousine: 3.94\n",
      "Dead Man: 3.93\n"
     ]
    }
   ],
   "source": [
    "def get_top_n_recommendations(user_id, df, model, n=10):\n",
    "    rated_movies = df[df['userId'] == user_id]['movieId'].tolist()\n",
    "    all_movies = df['movieId'].unique()\n",
    "    to_predict = [m for m in all_movies if m not in rated_movies]\n",
    "    \n",
    "    predictions = [model.predict(user_id, movie_id) for movie_id in to_predict]\n",
    "    top_preds = sorted(predictions, key=lambda x: x.est, reverse=True)[:n]\n",
    "    \n",
    "    movie_map = df[['movieId', 'title']].drop_duplicates().set_index('movieId')['title'].to_dict()\n",
    "    return [(movie_map.get(pred.iid, 'Unknown'), round(pred.est, 2)) for pred in top_preds]\n",
    "\n",
    "top_recs = get_top_n_recommendations(user_id=1, df=df, model=svd, n=10)\n",
    "for title, score in top_recs:\n",
    "    print(f\"{title}: {score}\")\n"
   ]
  },
  {
   "cell_type": "markdown",
   "id": "5d9158af-3170-4760-9308-946e8fe35129",
   "metadata": {},
   "source": [
    "### Model Performance "
   ]
  },
  {
   "cell_type": "code",
   "execution_count": 9,
   "id": "1fbffe56-2c66-4edd-a69c-1e26dc0db10d",
   "metadata": {},
   "outputs": [
    {
     "name": "stdout",
     "output_type": "stream",
     "text": [
      "\n",
      " Evaluation Metrics (on Test Set):\n",
      "RMSE      : 0.9037\n",
      "MAE       : 0.6934\n",
      "Accuracy  : 0.6976\n",
      "Precision : 0.7779\n",
      "Recall    : 0.7127\n",
      "F1 Score  : 0.7439\n"
     ]
    },
    {
     "name": "stderr",
     "output_type": "stream",
     "text": [
      "/opt/anaconda3/lib/python3.12/site-packages/sklearn/metrics/_regression.py:483: FutureWarning: 'squared' is deprecated in version 1.4 and will be removed in 1.6. To calculate the root mean squared error, use the function'root_mean_squared_error'.\n",
      "  warnings.warn(\n"
     ]
    }
   ],
   "source": [
    "import pandas as pd\n",
    "from surprise import Dataset, Reader, SVD\n",
    "from surprise.model_selection import train_test_split\n",
    "from surprise import accuracy\n",
    "from sklearn.metrics import accuracy_score, precision_score, recall_score, f1_score, mean_squared_error, mean_absolute_error\n",
    "\n",
    "\n",
    "# Get predictions on test set\n",
    "predictions = svd.test(testset)\n",
    "\n",
    "# Actual and predicted ratings\n",
    "y_true = [pred.r_ui for pred in predictions]\n",
    "y_pred = [pred.est for pred in predictions]\n",
    "\n",
    "# Regression metrics\n",
    "rmse = mean_squared_error(y_true, y_pred, squared=False)\n",
    "mae = mean_absolute_error(y_true, y_pred)\n",
    "\n",
    "# Convert to binary labels (e.g., relevant = rating ≥ 3.5)\n",
    "threshold = 3.5\n",
    "y_true_bin = [1 if r >= threshold else 0 for r in y_true]\n",
    "y_pred_bin = [1 if r >= threshold else 0 for r in y_pred]\n",
    "\n",
    "# Classification metrics\n",
    "accuracy_val = accuracy_score(y_true_bin, y_pred_bin)\n",
    "precision_val = precision_score(y_true_bin, y_pred_bin)\n",
    "recall_val = recall_score(y_true_bin, y_pred_bin)\n",
    "f1_val = f1_score(y_true_bin, y_pred_bin)\n",
    "\n",
    "\n",
    "print(\"\\n Evaluation Metrics (on Test Set):\")\n",
    "print(f\"RMSE      : {rmse:.4f}\")\n",
    "print(f\"MAE       : {mae:.4f}\")\n",
    "print(f\"Accuracy  : {accuracy_val:.4f}\")\n",
    "print(f\"Precision : {precision_val:.4f}\")\n",
    "print(f\"Recall    : {recall_val:.4f}\")\n",
    "print(f\"F1 Score  : {f1_val:.4f}\")\n"
   ]
  },
  {
   "cell_type": "markdown",
   "id": "bd2a8117-c14d-4051-a7f4-468c7122ec2e",
   "metadata": {},
   "source": [
    "##### **Model Performance Metrics**\n",
    "\n",
    "| Metric     | Value   | What It Means |\n",
    "|------------|---------|---------------|\n",
    "| **RMSE**       | `0.9018` | On average, predicted ratings differ from true ratings by approximately **0.90 points**. Lower is better. |\n",
    "| **MAE**        | `0.6914` | The average absolute difference between predicted and actual ratings is approximately **0.69**. |\n",
    "| **Accuracy**   | `0.7035` | About **70.35%** of the model’s binary predictions (liked or not liked) were correct. |\n",
    "| **Precision**  | `0.7858` | Approximately **78.58%** of movies predicted as “liked” were actually liked. |\n",
    "| **Recall**     | `0.7132` | The model successfully identified about **71.32%** of the movies the user actually liked. |\n",
    "| **F1 Score**   | `0.7477` | A balanced average of precision and recall, indicating solid overall recommendation performance. |"
   ]
  },
  {
   "cell_type": "markdown",
   "id": "ed2c5925-abb8-4262-9d68-95dcc064e5e7",
   "metadata": {},
   "source": [
    "### Movie Recommendation Webpage using Collaborative based Filtering\n",
    "\n",
    "This project implements a **collaborative filtering-based movie recommendation system** using **Singular Value Decomposition (SVD)**. It leverages user rating data to learn patterns and suggest movies that a user is likely to enjoy, based on the preferences of similar users.\n",
    "\n",
    "The application is built with **Streamlit**, providing an intuitive and interactive web interface. Users can:\n",
    "\n",
    "- **Input their User ID** to receive personalized movie recommendations.\n",
    "- **Predict ratings** for specific movies.\n",
    "\n",
    "#### **How it Works:**\n",
    "\n",
    "1. **Data Preparation**:  \n",
    "   Loads and preprocesses the ratings dataset.\n",
    "\n",
    "2. **Model Training (SVD)**:  \n",
    "   Captures latent features of users and movies from user-item interactions.\n",
    "\n",
    "3. **Personalized Recommendations**:  \n",
    "   Identifies and recommends top-rated unseen movies for each user.\n",
    "\n",
    "4. **Rating Prediction**:  \n",
    "   Predicts how a specific user might rate an individual movie.\n",
    "\n",
    "✅ **This approach** focuses entirely on user behavior and rating patterns, without needing metadata like genres or plot summaries. It’s ideal for personalization and demonstrates the effectiveness of collaborative filtering in real-world recommendation engines.\n"
   ]
  },
  {
   "cell_type": "code",
   "execution_count": 12,
   "id": "5028bd35-3eb5-414a-85e5-dda1713986ea",
   "metadata": {},
   "outputs": [
    {
     "name": "stdout",
     "output_type": "stream",
     "text": [
      "app1.py file created successfully.\n"
     ]
    }
   ],
   "source": [
    "with open(\"app1.py\", \"w\") as f:\n",
    "    f.write('''import streamlit as st\n",
    "import pandas as pd\n",
    "from surprise import Dataset, Reader, SVD\n",
    "from surprise.model_selection import train_test_split\n",
    "\n",
    "# --- Load the dataset ---\n",
    "@st.cache_data\n",
    "def load_data():\n",
    "    return pd.read_csv(\"cleaned_movie_ratings.csv\")\n",
    "\n",
    "df = load_data()\n",
    "\n",
    "# --- Prepare Surprise data and train SVD (cached) ---\n",
    "@st.cache_resource\n",
    "def train_model(dataframe):\n",
    "    reader = Reader(rating_scale=(0.5, 5.0))\n",
    "    data = Dataset.load_from_df(dataframe[['userId', 'movieId', 'rating']], reader)\n",
    "    trainset, _ = train_test_split(data, test_size=0.2, random_state=42)\n",
    "    model = SVD()\n",
    "    model.fit(trainset)\n",
    "    return model\n",
    "\n",
    "svd = train_model(df)\n",
    "\n",
    "# --- Create mapping for movie titles ---\n",
    "movie_map = df[['movieId', 'title']].drop_duplicates().set_index('movieId')['title'].to_dict()\n",
    "title_map = df[['title', 'movieId']].drop_duplicates().set_index('title')['movieId'].to_dict()\n",
    "\n",
    "# --- Recommendation Function ---\n",
    "def get_top_n_recommendations(user_id, df, model, n=10):\n",
    "    rated_movies = df[df['userId'] == user_id]['movieId'].tolist()\n",
    "    all_movies = df['movieId'].unique()\n",
    "    to_predict = [m for m in all_movies if m not in rated_movies]\n",
    "\n",
    "    predictions = [model.predict(user_id, movie_id) for movie_id in to_predict]\n",
    "    top_preds = sorted(predictions, key=lambda x: x.est, reverse=True)[:n]\n",
    "\n",
    "    return [(movie_map.get(pred.iid, 'Unknown'), round(pred.est, 2)) for pred in top_preds]\n",
    "\n",
    "# --- Streamlit UI ---\n",
    "st.title(\"🎬 Collaborative Filtering (SVD) Recommender\")\n",
    "\n",
    "user_id_input = st.number_input(\"Enter User ID:\", min_value=1, step=1)\n",
    "num_recs = st.slider(\"How many recommendations?\", 5, 20, 10)\n",
    "\n",
    "if st.button(\"Get Recommendations\"):\n",
    "    top_recs = get_top_n_recommendations(user_id=user_id_input, df=df, model=svd, n=num_recs)\n",
    "    if top_recs:\n",
    "        st.subheader(f\"📌 Top {num_recs} Recommendations for User {user_id_input}\")\n",
    "        st.table(pd.DataFrame(top_recs, columns=[\"Movie Title\", \"Predicted Rating\"]))\n",
    "    else:\n",
    "        st.warning(\"No recommendations found for this user.\")\n",
    "\n",
    "# Optional: Predict rating for a specific movie\n",
    "st.markdown(\"---\")\n",
    "st.subheader(\"🎯 Predict Rating for a Specific Movie\")\n",
    "movie_title = st.selectbox(\"Choose a movie:\", sorted(title_map.keys()))\n",
    "\n",
    "if st.button(\"Predict Rating\"):\n",
    "    movie_id = title_map.get(movie_title)\n",
    "    pred = svd.predict(user_id_input, movie_id)\n",
    "    st.success(f\"Predicted Rating for User {user_id_input} on '{movie_title}': {pred.est:.2f}\")\n",
    "\n",
    "\n",
    "''')\n",
    "\n",
    "print(\"app1.py file created successfully.\")"
   ]
  },
  {
   "cell_type": "code",
   "execution_count": null,
   "id": "77511c58-705b-4e5d-a886-c27a7a6943b5",
   "metadata": {},
   "outputs": [
    {
     "name": "stdout",
     "output_type": "stream",
     "text": [
      "\u001b[0m\n",
      "\u001b[34m\u001b[1m  You can now view your Streamlit app in your browser.\u001b[0m\n",
      "\u001b[0m\n",
      "\u001b[34m  Local URL: \u001b[0m\u001b[1mhttp://localhost:8502\u001b[0m\n",
      "\u001b[34m  Network URL: \u001b[0m\u001b[1mhttp://10.12.181.173:8502\u001b[0m\n",
      "\u001b[0m\n"
     ]
    }
   ],
   "source": [
    "!streamlit run app1.py"
   ]
  },
  {
   "cell_type": "markdown",
   "id": "584559a7-8dd4-447d-a895-854ec446deac",
   "metadata": {},
   "source": [
    "####  **Limitations of Collaborative Filtering**\n",
    "\n",
    "##### **Cold Start Problem**\n",
    "- Collaborative filtering struggles with **new users** or **new movies** that have **no prior ratings**.\n",
    "- Without sufficient historical data, the model cannot make accurate predictions or recommendations.\n",
    "\n",
    "##### **Solutions to the Cold Start Problem:**\n",
    "\n",
    "1. **Hybrid Recommendation Systems**:\n",
    "   - Combine collaborative filtering with content-based filtering.\n",
    "   - Leverage movie metadata (genres, descriptions, keywords) to generate recommendations when rating data is unavailable.\n",
    "\n",
    "2. **Content-based User Onboarding**:\n",
    "   - Ask new users to select preferred genres or rate a few initial movies.\n",
    "   - Quickly establish an initial user preference profile.\n",
    "\n",
    "3. **Popularity-based Recommendations**:\n",
    "   - Temporarily suggest trending or top-rated movies to new users until enough interaction data is collected."
   ]
  },
  {
   "cell_type": "code",
   "execution_count": null,
   "id": "f52fe0e5-1a2a-4514-84af-a610e41398fc",
   "metadata": {},
   "outputs": [],
   "source": []
  },
  {
   "cell_type": "code",
   "execution_count": null,
   "id": "16f19c39-328e-49a9-a8f6-098a11e87f1e",
   "metadata": {},
   "outputs": [],
   "source": []
  },
  {
   "cell_type": "code",
   "execution_count": null,
   "id": "377d68bf-8032-4bdd-88dd-edec88e1c243",
   "metadata": {},
   "outputs": [],
   "source": []
  }
 ],
 "metadata": {
  "kernelspec": {
   "display_name": "Python 3 (ipykernel)",
   "language": "python",
   "name": "python3"
  },
  "language_info": {
   "codemirror_mode": {
    "name": "ipython",
    "version": 3
   },
   "file_extension": ".py",
   "mimetype": "text/x-python",
   "name": "python",
   "nbconvert_exporter": "python",
   "pygments_lexer": "ipython3",
   "version": "3.12.4"
  }
 },
 "nbformat": 4,
 "nbformat_minor": 5
}
